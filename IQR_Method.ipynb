{
 "cells": [
  {
   "cell_type": "code",
   "execution_count": 12,
   "id": "3858eab5-4f51-4729-acdd-525539be1867",
   "metadata": {},
   "outputs": [],
   "source": [
    "import pandas as pd\n",
    "import numpy as np\n",
    "import matplotlib.pyplot as plt\n",
    "import numpy as np\n",
    "import seaborn as sns"
   ]
  },
  {
   "cell_type": "code",
   "execution_count": 13,
   "id": "56a195ce-8514-47d1-a6ce-ad41a8e90252",
   "metadata": {},
   "outputs": [],
   "source": [
    "df = pd.read_csv('placement_new.csv')"
   ]
  },
  {
   "cell_type": "code",
   "execution_count": 14,
   "id": "5dda0223-e219-4d36-b37d-f684727f84a1",
   "metadata": {},
   "outputs": [
    {
     "data": {
      "text/plain": [
       "count    1000.000000\n",
       "mean       32.225000\n",
       "std        19.130822\n",
       "min         0.000000\n",
       "25%        17.000000\n",
       "50%        28.000000\n",
       "75%        44.000000\n",
       "max       100.000000\n",
       "Name: placement_exam_marks, dtype: float64"
      ]
     },
     "execution_count": 14,
     "metadata": {},
     "output_type": "execute_result"
    }
   ],
   "source": [
    "df['placement_exam_marks'].describe()"
   ]
  },
  {
   "cell_type": "code",
   "execution_count": 18,
   "id": "f97d76d8-9c4d-4bf4-bdf6-d6fe38c20b51",
   "metadata": {},
   "outputs": [
    {
     "data": {
      "text/plain": [
       "<Axes: ylabel='placement_exam_marks'>"
      ]
     },
     "execution_count": 18,
     "metadata": {},
     "output_type": "execute_result"
    },
    {
     "data": {
      "image/png": "[encoded data removed]",
      "text/plain": [
       "<Figure size 640x480 with 1 Axes>"
      ]
     },
     "metadata": {},
     "output_type": "display_data"
    }
   ],
   "source": [
    "sns.boxplot(df['placement_exam_marks'])"
   ]
  },
  {
   "cell_type": "code",
   "execution_count": 20,
   "id": "d0d50b73-7ebe-420c-bc44-279b2ddff1c8",
   "metadata": {},
   "outputs": [],
   "source": [
    "percentile75 = df['placement_exam_marks'].quantile(0.75)\n",
    "percentile25 = df['placement_exam_marks'].quantile(0.25)"
   ]
  },
  {
   "cell_type": "code",
   "execution_count": 22,
   "id": "1d6d109e-aa8a-4716-a61e-d672fd6168bd",
   "metadata": {},
   "outputs": [
    {
     "data": {
      "text/plain": [
       "44.0"
      ]
     },
     "execution_count": 22,
     "metadata": {},
     "output_type": "execute_result"
    }
   ],
   "source": [
    "percentile75"
   ]
  },
  {
   "cell_type": "code",
   "execution_count": 24,
   "id": "da6ad45f-8263-4ad4-b981-6b1832d1fdc2",
   "metadata": {},
   "outputs": [
    {
     "data": {
      "text/plain": [
       "17.0"
      ]
     },
     "execution_count": 24,
     "metadata": {},
     "output_type": "execute_result"
    }
   ],
   "source": [
    "percentile25"
   ]
  },
  {
   "cell_type": "code",
   "execution_count": 26,
   "id": "10c8a702-10c0-46ba-a9fd-f5f4d3b38f10",
   "metadata": {},
   "outputs": [],
   "source": [
    "iqr = percentile75 - percentile25"
   ]
  },
  {
   "cell_type": "code",
   "execution_count": 28,
   "id": "7cef6cf0-0f96-4d4f-9486-56275961d59e",
   "metadata": {},
   "outputs": [
    {
     "data": {
      "text/plain": [
       "27.0"
      ]
     },
     "execution_count": 28,
     "metadata": {},
     "output_type": "execute_result"
    }
   ],
   "source": [
    "iqr"
   ]
  },
  {
   "cell_type": "code",
   "execution_count": 30,
   "id": "364b4293-a9b7-4246-a74d-324c15f48528",
   "metadata": {},
   "outputs": [],
   "source": [
    "upper_limit = percentile75 + 1.5*iqr\n",
    "lower_limit = percentile25 - 1.5*iqr"
   ]
  },
  {
   "cell_type": "code",
   "execution_count": 32,
   "id": "e3cb67dc-a67d-4a61-89b7-f0c67eba3621",
   "metadata": {},
   "outputs": [
    {
     "data": {
      "text/plain": [
       "84.5"
      ]
     },
     "execution_count": 32,
     "metadata": {},
     "output_type": "execute_result"
    }
   ],
   "source": [
    "upper_limit"
   ]
  },
  {
   "cell_type": "code",
   "execution_count": 34,
   "id": "b0c862e2-b51b-47f3-b629-d362e5ba35d0",
   "metadata": {},
   "outputs": [
    {
     "data": {
      "text/plain": [
       "-23.5"
      ]
     },
     "execution_count": 34,
     "metadata": {},
     "output_type": "execute_result"
    }
   ],
   "source": [
    "lower_limit"
   ]
  },
  {
   "cell_type": "markdown",
   "id": "8bac1886-5753-4022-89a7-f67b5efa4ca1",
   "metadata": {},
   "source": [
    "# Finding Outliers\n"
   ]
  },
  {
   "cell_type": "code",
   "execution_count": 39,
   "id": "88a9e5ed-f6f2-48e3-950a-8332783f811b",
   "metadata": {},
   "outputs": [
    {
     "data": {
      "text/html": [
       "<div>\n",
       "<style scoped>\n",
       "    .dataframe tbody tr th:only-of-type {\n",
       "        vertical-align: middle;\n",
       "    }\n",
       "\n",
       "    .dataframe tbody tr th {\n",
       "        vertical-align: top;\n",
       "    }\n",
       "\n",
       "    .dataframe thead th {\n",
       "        text-align: right;\n",
       "    }\n",
       "</style>\n",
       "<table border=\"1\" class=\"dataframe\">\n",
       "  <thead>\n",
       "    <tr style=\"text-align: right;\">\n",
       "      <th></th>\n",
       "      <th>cgpa</th>\n",
       "      <th>placement_exam_marks</th>\n",
       "      <th>placed</th>\n",
       "    </tr>\n",
       "  </thead>\n",
       "  <tbody>\n",
       "    <tr>\n",
       "      <th>9</th>\n",
       "      <td>7.75</td>\n",
       "      <td>94.0</td>\n",
       "      <td>1</td>\n",
       "    </tr>\n",
       "    <tr>\n",
       "      <th>40</th>\n",
       "      <td>6.60</td>\n",
       "      <td>86.0</td>\n",
       "      <td>1</td>\n",
       "    </tr>\n",
       "    <tr>\n",
       "      <th>61</th>\n",
       "      <td>7.51</td>\n",
       "      <td>86.0</td>\n",
       "      <td>0</td>\n",
       "    </tr>\n",
       "    <tr>\n",
       "      <th>134</th>\n",
       "      <td>6.33</td>\n",
       "      <td>93.0</td>\n",
       "      <td>0</td>\n",
       "    </tr>\n",
       "    <tr>\n",
       "      <th>162</th>\n",
       "      <td>7.80</td>\n",
       "      <td>90.0</td>\n",
       "      <td>0</td>\n",
       "    </tr>\n",
       "    <tr>\n",
       "      <th>283</th>\n",
       "      <td>7.09</td>\n",
       "      <td>87.0</td>\n",
       "      <td>0</td>\n",
       "    </tr>\n",
       "    <tr>\n",
       "      <th>290</th>\n",
       "      <td>8.38</td>\n",
       "      <td>87.0</td>\n",
       "      <td>0</td>\n",
       "    </tr>\n",
       "    <tr>\n",
       "      <th>311</th>\n",
       "      <td>6.97</td>\n",
       "      <td>87.0</td>\n",
       "      <td>1</td>\n",
       "    </tr>\n",
       "    <tr>\n",
       "      <th>324</th>\n",
       "      <td>6.64</td>\n",
       "      <td>90.0</td>\n",
       "      <td>0</td>\n",
       "    </tr>\n",
       "    <tr>\n",
       "      <th>630</th>\n",
       "      <td>6.56</td>\n",
       "      <td>96.0</td>\n",
       "      <td>1</td>\n",
       "    </tr>\n",
       "    <tr>\n",
       "      <th>685</th>\n",
       "      <td>6.05</td>\n",
       "      <td>87.0</td>\n",
       "      <td>1</td>\n",
       "    </tr>\n",
       "    <tr>\n",
       "      <th>730</th>\n",
       "      <td>6.14</td>\n",
       "      <td>90.0</td>\n",
       "      <td>1</td>\n",
       "    </tr>\n",
       "    <tr>\n",
       "      <th>771</th>\n",
       "      <td>7.31</td>\n",
       "      <td>86.0</td>\n",
       "      <td>1</td>\n",
       "    </tr>\n",
       "    <tr>\n",
       "      <th>846</th>\n",
       "      <td>6.99</td>\n",
       "      <td>97.0</td>\n",
       "      <td>0</td>\n",
       "    </tr>\n",
       "    <tr>\n",
       "      <th>917</th>\n",
       "      <td>5.95</td>\n",
       "      <td>100.0</td>\n",
       "      <td>0</td>\n",
       "    </tr>\n",
       "  </tbody>\n",
       "</table>\n",
       "</div>"
      ],
      "text/plain": [
       "     cgpa  placement_exam_marks  placed\n",
       "9    7.75                  94.0       1\n",
       "40   6.60                  86.0       1\n",
       "61   7.51                  86.0       0\n",
       "134  6.33                  93.0       0\n",
       "162  7.80                  90.0       0\n",
       "283  7.09                  87.0       0\n",
       "290  8.38                  87.0       0\n",
       "311  6.97                  87.0       1\n",
       "324  6.64                  90.0       0\n",
       "630  6.56                  96.0       1\n",
       "685  6.05                  87.0       1\n",
       "730  6.14                  90.0       1\n",
       "771  7.31                  86.0       1\n",
       "846  6.99                  97.0       0\n",
       "917  5.95                 100.0       0"
      ]
     },
     "execution_count": 39,
     "metadata": {},
     "output_type": "execute_result"
    }
   ],
   "source": [
    "df[df['placement_exam_marks'] > upper_limit]"
   ]
  },
  {
   "cell_type": "code",
   "execution_count": 41,
   "id": "db3ed7cb-d869-4d81-99fc-f7eae351a844",
   "metadata": {},
   "outputs": [
    {
     "data": {
      "text/html": [
       "<div>\n",
       "<style scoped>\n",
       "    .dataframe tbody tr th:only-of-type {\n",
       "        vertical-align: middle;\n",
       "    }\n",
       "\n",
       "    .dataframe tbody tr th {\n",
       "        vertical-align: top;\n",
       "    }\n",
       "\n",
       "    .dataframe thead th {\n",
       "        text-align: right;\n",
       "    }\n",
       "</style>\n",
       "<table border=\"1\" class=\"dataframe\">\n",
       "  <thead>\n",
       "    <tr style=\"text-align: right;\">\n",
       "      <th></th>\n",
       "      <th>cgpa</th>\n",
       "      <th>placement_exam_marks</th>\n",
       "      <th>placed</th>\n",
       "    </tr>\n",
       "  </thead>\n",
       "  <tbody>\n",
       "  </tbody>\n",
       "</table>\n",
       "</div>"
      ],
      "text/plain": [
       "Empty DataFrame\n",
       "Columns: [cgpa, placement_exam_marks, placed]\n",
       "Index: []"
      ]
     },
     "execution_count": 41,
     "metadata": {},
     "output_type": "execute_result"
    }
   ],
   "source": [
    "df[df['placement_exam_marks'] < lower_limit]"
   ]
  },
  {
   "cell_type": "markdown",
   "id": "49412967-ff63-4af3-928b-c893a349ef8a",
   "metadata": {},
   "source": [
    "# Trimming"
   ]
  },
  {
   "cell_type": "code",
   "execution_count": 44,
   "id": "ade74cc4-8f1f-4602-a7f4-acb0edf289cc",
   "metadata": {},
   "outputs": [],
   "source": [
    "new_df = df[df['placement_exam_marks'] < upper_limit]"
   ]
  },
  {
   "cell_type": "code",
   "execution_count": 48,
   "id": "2991ee79-0809-4638-bf4a-b9c43f07c14e",
   "metadata": {},
   "outputs": [
    {
     "data": {
      "text/plain": [
       "(985, 3)"
      ]
     },
     "execution_count": 48,
     "metadata": {},
     "output_type": "execute_result"
    }
   ],
   "source": [
    "new_df.shape"
   ]
  },
  {
   "cell_type": "markdown",
   "id": "d316aff7-94b0-444e-b913-51d4db4a30e1",
   "metadata": {},
   "source": [
    "# Capping"
   ]
  },
  {
   "cell_type": "code",
   "execution_count": 67,
   "id": "14652b3f-8df4-4b5a-a798-2499673fc12c",
   "metadata": {},
   "outputs": [],
   "source": [
    "new_df_cap = df.copy()\n",
    "\n",
    "new_df_cap['placement_exam_marks'] = np.where(\n",
    "    new_df_cap['placement_exam_marks'] > upper_limit,\n",
    "    upper_limit,\n",
    "    np.where(\n",
    "        new_df_cap['placement_exam_marks'] < lower_limit,\n",
    "        lower_limit,\n",
    "        new_df_cap['placement_exam_marks']\n",
    "    )\n",
    ")"
   ]
  },
  {
   "cell_type": "code",
   "execution_count": 69,
   "id": "d523cb50-871d-4e58-b276-dc041c2f9fe3",
   "metadata": {},
   "outputs": [
    {
     "data": {
      "text/plain": [
       "(1000, 3)"
      ]
     },
     "execution_count": 69,
     "metadata": {},
     "output_type": "execute_result"
    }
   ],
   "source": [
    "new_df_cap.shape"
   ]
  },
  {
   "cell_type": "code",
   "execution_count": 71,
   "id": "5f4f82c3-8962-49a8-834c-55529d66162b",
   "metadata": {},
   "outputs": [
    {
     "data": {
      "text/plain": [
       "count    1000.000000\n",
       "mean       32.136500\n",
       "std        18.865419\n",
       "min         0.000000\n",
       "25%        17.000000\n",
       "50%        28.000000\n",
       "75%        44.000000\n",
       "max        84.500000\n",
       "Name: placement_exam_marks, dtype: float64"
      ]
     },
     "execution_count": 71,
     "metadata": {},
     "output_type": "execute_result"
    }
   ],
   "source": [
    "new_df_cap['placement_exam_marks'].describe()"
   ]
  },
  {
   "cell_type": "code",
   "execution_count": null,
   "id": "5b23971a-364d-4053-96e6-865b41042dcb",
   "metadata": {},
   "outputs": [],
   "source": []
  }
 ],
 "metadata": {
  "kernelspec": {
   "display_name": "Python [conda env:base] *",
   "language": "python",
   "name": "conda-base-py"
  },
  "language_info": {
   "codemirror_mode": {
    "name": "ipython",
    "version": 3
   },
   "file_extension": ".py",
   "mimetype": "text/x-python",
   "name": "python",
   "nbconvert_exporter": "python",
   "pygments_lexer": "ipython3",
   "version": "3.12.7"
  }
 },
 "nbformat": 4,
 "nbformat_minor": 5
}
