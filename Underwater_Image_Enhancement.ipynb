{
 "cells": [
  {
   "cell_type": "code",
   "execution_count": 1,
   "id": "d310258f-672d-44db-a241-e8d1dca1eaaf",
   "metadata": {},
   "outputs": [
    {
     "ename": "ModuleNotFoundError",
     "evalue": "No module named 'google.colab'",
     "output_type": "error",
     "traceback": [
      "\u001b[1;31m---------------------------------------------------------------------------\u001b[0m",
      "\u001b[1;31mModuleNotFoundError\u001b[0m                       Traceback (most recent call last)",
      "Cell \u001b[1;32mIn[1], line 2\u001b[0m\n\u001b[0;32m      1\u001b[0m \u001b[38;5;66;03m#uploading image\u001b[39;00m\n\u001b[1;32m----> 2\u001b[0m \u001b[38;5;28;01mfrom\u001b[39;00m \u001b[38;5;21;01mgoogle\u001b[39;00m\u001b[38;5;21;01m.\u001b[39;00m\u001b[38;5;21;01mcolab\u001b[39;00m \u001b[38;5;28;01mimport\u001b[39;00m files\n\u001b[0;32m      4\u001b[0m uploaded \u001b[38;5;241m=\u001b[39m files\u001b[38;5;241m.\u001b[39mupload()\n\u001b[0;32m      6\u001b[0m \u001b[38;5;28;01mfor\u001b[39;00m filename \u001b[38;5;129;01min\u001b[39;00m uploaded\u001b[38;5;241m.\u001b[39mkeys():\n",
      "\u001b[1;31mModuleNotFoundError\u001b[0m: No module named 'google.colab'"
     ]
    }
   ],
   "source": [
    "#uploading image\n",
    "from google.colab import files\n",
    "\n",
    "uploaded = files.upload()\n",
    "\n",
    "for filename in uploaded.keys():\n",
    "    print(f\"Uploaded file: {filename}\")"
   ]
  },
  {
   "cell_type": "code",
   "execution_count": null,
   "id": "b0cb8463-451b-4815-abe0-f18c020bf3e5",
   "metadata": {},
   "outputs": [],
   "source": [
    "import cv2\n",
    "import numpy as np\n",
    "from google.colab import files\n",
    "from google.colab.patches import cv2_imshow\n",
    "import matplotlib.pyplot as plt\n",
    "#Change the name to uploaded image\n",
    "image = cv2.imread('b.jpg')\n",
    "\n",
    "#Kernel sharpening\n",
    "kernel = np.array([[0, -1, 0], [-1, 5, -1], [0, -1, 0]])\n",
    "sharpened = cv2.filter2D(image, -1, kernel)\n",
    "#2nd kernel sharpening\n",
    "sharpened1 = cv2.filter2D(sharpened, -1, kernel)\n",
    "\n",
    "#Gaussian Blur and Unsharp Masking\n",
    "blurred = cv2.GaussianBlur(image, (5, 5), 0)\n",
    "sharpened_image5 = cv2.addWeighted(sharpened1, 2.0, blurred, -1.0, 0)\n",
    "#Suming of first sharpened &\n",
    "sum = cv2.add(sharpened, sharpened_image5)\n",
    "\n",
    "#Original image\n",
    "cv2_imshow(image)\n",
    "#Kernel sharpened image\n",
    "cv2_imshow(sharpened)\n",
    "#2nd kernel sharpened image\n",
    "cv2_imshow(sharpened1)\n",
    "#Unsharp masked image\n",
    "cv2_imshow(sharpened_image5)\n",
    "#Sum of second kernel sharpened & unsharp masked image\n",
    "cv2_imshow(sum)"
   ]
  }
 ],
 "metadata": {
  "kernelspec": {
   "display_name": "Python [conda env:base] *",
   "language": "python",
   "name": "conda-base-py"
  },
  "language_info": {
   "codemirror_mode": {
    "name": "ipython",
    "version": 3
   },
   "file_extension": ".py",
   "mimetype": "text/x-python",
   "name": "python",
   "nbconvert_exporter": "python",
   "pygments_lexer": "ipython3",
   "version": "3.12.7"
  }
 },
 "nbformat": 4,
 "nbformat_minor": 5
}
